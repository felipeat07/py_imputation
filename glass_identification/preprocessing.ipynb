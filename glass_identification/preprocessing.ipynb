{
 "cells": [
  {
   "cell_type": "code",
   "execution_count": 4,
   "id": "c7460076",
   "metadata": {},
   "outputs": [],
   "source": [
    "import pandas as pd\n",
    "import matplotlib.pyplot as plt"
   ]
  },
  {
   "cell_type": "code",
   "execution_count": 5,
   "id": "223cc7f7",
   "metadata": {},
   "outputs": [
    {
     "data": {
      "text/html": [
       "<div>\n",
       "<style scoped>\n",
       "    .dataframe tbody tr th:only-of-type {\n",
       "        vertical-align: middle;\n",
       "    }\n",
       "\n",
       "    .dataframe tbody tr th {\n",
       "        vertical-align: top;\n",
       "    }\n",
       "\n",
       "    .dataframe thead th {\n",
       "        text-align: right;\n",
       "    }\n",
       "</style>\n",
       "<table border=\"1\" class=\"dataframe\">\n",
       "  <thead>\n",
       "    <tr style=\"text-align: right;\">\n",
       "      <th></th>\n",
       "      <th>RI</th>\n",
       "      <th>Na</th>\n",
       "      <th>Mg</th>\n",
       "      <th>Al</th>\n",
       "      <th>Si</th>\n",
       "      <th>K</th>\n",
       "      <th>Ca</th>\n",
       "      <th>Ba</th>\n",
       "      <th>Fe</th>\n",
       "      <th>Type_of_glass</th>\n",
       "    </tr>\n",
       "  </thead>\n",
       "  <tbody>\n",
       "    <tr>\n",
       "      <th>0</th>\n",
       "      <td>1.52101</td>\n",
       "      <td>13.64</td>\n",
       "      <td>4.49</td>\n",
       "      <td>1.10</td>\n",
       "      <td>71.78</td>\n",
       "      <td>0.06</td>\n",
       "      <td>8.75</td>\n",
       "      <td>0.0</td>\n",
       "      <td>0.00</td>\n",
       "      <td>1</td>\n",
       "    </tr>\n",
       "    <tr>\n",
       "      <th>1</th>\n",
       "      <td>1.51761</td>\n",
       "      <td>13.89</td>\n",
       "      <td>3.60</td>\n",
       "      <td>1.36</td>\n",
       "      <td>72.73</td>\n",
       "      <td>0.48</td>\n",
       "      <td>7.83</td>\n",
       "      <td>0.0</td>\n",
       "      <td>0.00</td>\n",
       "      <td>1</td>\n",
       "    </tr>\n",
       "    <tr>\n",
       "      <th>2</th>\n",
       "      <td>1.51618</td>\n",
       "      <td>13.53</td>\n",
       "      <td>3.55</td>\n",
       "      <td>1.54</td>\n",
       "      <td>72.99</td>\n",
       "      <td>0.39</td>\n",
       "      <td>7.78</td>\n",
       "      <td>0.0</td>\n",
       "      <td>0.00</td>\n",
       "      <td>1</td>\n",
       "    </tr>\n",
       "    <tr>\n",
       "      <th>3</th>\n",
       "      <td>1.51766</td>\n",
       "      <td>13.21</td>\n",
       "      <td>3.69</td>\n",
       "      <td>1.29</td>\n",
       "      <td>72.61</td>\n",
       "      <td>0.57</td>\n",
       "      <td>8.22</td>\n",
       "      <td>0.0</td>\n",
       "      <td>0.00</td>\n",
       "      <td>1</td>\n",
       "    </tr>\n",
       "    <tr>\n",
       "      <th>4</th>\n",
       "      <td>1.51742</td>\n",
       "      <td>13.27</td>\n",
       "      <td>3.62</td>\n",
       "      <td>1.24</td>\n",
       "      <td>73.08</td>\n",
       "      <td>0.55</td>\n",
       "      <td>8.07</td>\n",
       "      <td>0.0</td>\n",
       "      <td>0.00</td>\n",
       "      <td>1</td>\n",
       "    </tr>\n",
       "    <tr>\n",
       "      <th>5</th>\n",
       "      <td>1.51596</td>\n",
       "      <td>12.79</td>\n",
       "      <td>3.61</td>\n",
       "      <td>1.62</td>\n",
       "      <td>72.97</td>\n",
       "      <td>0.64</td>\n",
       "      <td>8.07</td>\n",
       "      <td>0.0</td>\n",
       "      <td>0.26</td>\n",
       "      <td>1</td>\n",
       "    </tr>\n",
       "    <tr>\n",
       "      <th>6</th>\n",
       "      <td>1.51743</td>\n",
       "      <td>13.30</td>\n",
       "      <td>3.60</td>\n",
       "      <td>1.14</td>\n",
       "      <td>73.09</td>\n",
       "      <td>0.58</td>\n",
       "      <td>8.17</td>\n",
       "      <td>0.0</td>\n",
       "      <td>0.00</td>\n",
       "      <td>1</td>\n",
       "    </tr>\n",
       "    <tr>\n",
       "      <th>7</th>\n",
       "      <td>1.51756</td>\n",
       "      <td>13.15</td>\n",
       "      <td>3.61</td>\n",
       "      <td>1.05</td>\n",
       "      <td>73.24</td>\n",
       "      <td>0.57</td>\n",
       "      <td>8.24</td>\n",
       "      <td>0.0</td>\n",
       "      <td>0.00</td>\n",
       "      <td>1</td>\n",
       "    </tr>\n",
       "    <tr>\n",
       "      <th>8</th>\n",
       "      <td>1.51918</td>\n",
       "      <td>14.04</td>\n",
       "      <td>3.58</td>\n",
       "      <td>1.37</td>\n",
       "      <td>72.08</td>\n",
       "      <td>0.56</td>\n",
       "      <td>8.30</td>\n",
       "      <td>0.0</td>\n",
       "      <td>0.00</td>\n",
       "      <td>1</td>\n",
       "    </tr>\n",
       "    <tr>\n",
       "      <th>9</th>\n",
       "      <td>1.51755</td>\n",
       "      <td>13.00</td>\n",
       "      <td>3.60</td>\n",
       "      <td>1.36</td>\n",
       "      <td>72.99</td>\n",
       "      <td>0.57</td>\n",
       "      <td>8.40</td>\n",
       "      <td>0.0</td>\n",
       "      <td>0.11</td>\n",
       "      <td>1</td>\n",
       "    </tr>\n",
       "  </tbody>\n",
       "</table>\n",
       "</div>"
      ],
      "text/plain": [
       "        RI     Na    Mg    Al     Si     K    Ca   Ba    Fe  Type_of_glass\n",
       "0  1.52101  13.64  4.49  1.10  71.78  0.06  8.75  0.0  0.00              1\n",
       "1  1.51761  13.89  3.60  1.36  72.73  0.48  7.83  0.0  0.00              1\n",
       "2  1.51618  13.53  3.55  1.54  72.99  0.39  7.78  0.0  0.00              1\n",
       "3  1.51766  13.21  3.69  1.29  72.61  0.57  8.22  0.0  0.00              1\n",
       "4  1.51742  13.27  3.62  1.24  73.08  0.55  8.07  0.0  0.00              1\n",
       "5  1.51596  12.79  3.61  1.62  72.97  0.64  8.07  0.0  0.26              1\n",
       "6  1.51743  13.30  3.60  1.14  73.09  0.58  8.17  0.0  0.00              1\n",
       "7  1.51756  13.15  3.61  1.05  73.24  0.57  8.24  0.0  0.00              1\n",
       "8  1.51918  14.04  3.58  1.37  72.08  0.56  8.30  0.0  0.00              1\n",
       "9  1.51755  13.00  3.60  1.36  72.99  0.57  8.40  0.0  0.11              1"
      ]
     },
     "metadata": {},
     "output_type": "display_data"
    }
   ],
   "source": [
    "\n",
    "# Caminho para o arquivo\n",
    "file_path = 'data/glass.data'\n",
    "\n",
    "# Lista com os nomes das colunas, conforme o UCI\n",
    "columns = [\n",
    "    'Id', 'RI', 'Na', 'Mg', 'Al', 'Si', 'K', 'Ca', 'Ba', 'Fe', 'Type_of_glass'\n",
    "]\n",
    "\n",
    "# Carregar o arquivo (sem cabeçalho)\n",
    "df = pd.read_csv(file_path, header=None, names=columns)\n",
    "\n",
    "# Remover a coluna 'Id' se não for necessária\n",
    "df.drop(columns=['Id'], inplace=True)\n",
    "\n",
    "# Mostrar todas as colunas\n",
    "pd.set_option('display.max_columns', None)\n",
    "\n",
    "# Exibir as 10 primeiras linhas\n",
    "display(df.head(10))\n"
   ]
  },
  {
   "cell_type": "code",
   "execution_count": 6,
   "id": "71f2e3ea",
   "metadata": {},
   "outputs": [
    {
     "name": "stdout",
     "output_type": "stream",
     "text": [
      "Número de linhas no dataset: 214\n"
     ]
    }
   ],
   "source": [
    "print(f\"Número de linhas no dataset: {len(df)}\")"
   ]
  },
  {
   "cell_type": "code",
   "execution_count": 7,
   "id": "06885f92",
   "metadata": {},
   "outputs": [
    {
     "name": "stdout",
     "output_type": "stream",
     "text": [
      "               Frequência Absoluta  Frequência Relativa (%)\n",
      "Type_of_glass                                              \n",
      "1                               70                    32.71\n",
      "2                               76                    35.51\n",
      "3                               17                     7.94\n",
      "5                               13                     6.07\n",
      "6                                9                     4.21\n",
      "7                               29                    13.55\n"
     ]
    }
   ],
   "source": [
    "# Frequência absoluta\n",
    "freq_abs = df[\"Type_of_glass\"].value_counts().sort_index()\n",
    "\n",
    "# Frequência relativa (%)\n",
    "freq_rel = df[\"Type_of_glass\"].value_counts(normalize=True).sort_index() * 100\n",
    "\n",
    "# Exibir\n",
    "balanceamento = pd.DataFrame({\n",
    "    \"Frequência Absoluta\": freq_abs,\n",
    "    \"Frequência Relativa (%)\": freq_rel.round(2)\n",
    "})\n",
    "\n",
    "print(balanceamento)\n"
   ]
  },
  {
   "cell_type": "code",
   "execution_count": 8,
   "id": "a69fde3b",
   "metadata": {},
   "outputs": [
    {
     "data": {
      "image/png": "[encoded data removed]",
      "text/plain": [
       "<Figure size 640x480 with 1 Axes>"
      ]
     },
     "metadata": {},
     "output_type": "display_data"
    }
   ],
   "source": [
    "freq_abs.plot(kind='bar', color='skyblue', edgecolor='black')\n",
    "plt.title(\"Distribuição das Classes em 'Type_of_glass'\")\n",
    "plt.xlabel(\"Classe\")\n",
    "plt.ylabel(\"Frequência\")\n",
    "plt.xticks(rotation=0)\n",
    "plt.grid(axis='y', linestyle='--', alpha=0.7)\n",
    "plt.tight_layout()\n",
    "plt.show()\n"
   ]
  },
  {
   "cell_type": "code",
   "execution_count": 10,
   "id": "c9260e9d",
   "metadata": {},
   "outputs": [
    {
     "name": "stdout",
     "output_type": "stream",
     "text": [
      "Series([], dtype: int64)\n",
      "Valores ausentes (representados por '?') por coluna:\n",
      "Series([], dtype: int64)\n"
     ]
    }
   ],
   "source": [
    "print(df.isnull().sum()[df.isnull().sum() > 0])\n",
    "\n",
    "# Verificar valores ausentes representados por '?' em todas as colunas\n",
    "missing_values = (df == '?').sum()\n",
    "\n",
    "# Filtrar apenas as colunas que possuem valores ausentes\n",
    "missing_values = missing_values[missing_values > 0]\n",
    "\n",
    "# Exibir resultado\n",
    "print(\"Valores ausentes (representados por '?') por coluna:\")\n",
    "print(missing_values)\n"
   ]
  },
  {
   "cell_type": "code",
   "execution_count": 11,
   "id": "8df4c793",
   "metadata": {},
   "outputs": [
    {
     "data": {
      "image/png": "[encoded data removed]",
      "text/plain": [
       "<Figure size 1000x600 with 1 Axes>"
      ]
     },
     "metadata": {},
     "output_type": "display_data"
    }
   ],
   "source": [
    "import pandas as pd\n",
    "import numpy as np\n",
    "import matplotlib.pyplot as plt\n",
    "from sklearn.feature_selection import f_classif\n",
    "\n",
    "# Separar X e y\n",
    "X = df.drop(columns=['Type_of_glass'])\n",
    "y = df['Type_of_glass']\n",
    "\n",
    "# Calcular F e p-valor via ANOVA\n",
    "f_values, p_values = f_classif(X, y)\n",
    "\n",
    "# Parâmetros\n",
    "n = len(y)\n",
    "k = y.nunique()\n",
    "\n",
    "# Calcular Eta²\n",
    "eta_squared = f_values / (f_values + (n - k))\n",
    "\n",
    "# Montar DataFrame com os resultados\n",
    "result = pd.DataFrame({\n",
    "    'Variável': X.columns,\n",
    "    'F': f_values,\n",
    "    'p-valor': p_values,\n",
    "    'Eta²': eta_squared\n",
    "}).sort_values(by='Eta²', ascending=True)\n",
    "\n",
    "# Plotar gráfico de barras\n",
    "plt.figure(figsize=(10, 6))\n",
    "plt.barh(result['Variável'], result['Eta²'], color='skyblue')\n",
    "plt.xlabel('Eta² (Tamanho do Efeito)')\n",
    "plt.title('Associação entre Variáveis Numéricas e Tipo de Vidro (Type_of_glass)')\n",
    "plt.grid(axis='x', linestyle='--', alpha=0.7)\n",
    "plt.tight_layout()\n",
    "plt.show()\n"
   ]
  },
  {
   "cell_type": "markdown",
   "id": "cb05769f",
   "metadata": {},
   "source": [
    "Ver se continua classificando como o original, se a imputação melhorou piorou ou continua igual."
   ]
  }
 ],
 "metadata": {
  "kernelspec": {
   "display_name": ".venv",
   "language": "python",
   "name": "python3"
  },
  "language_info": {
   "codemirror_mode": {
    "name": "ipython",
    "version": 3
   },
   "file_extension": ".py",
   "mimetype": "text/x-python",
   "name": "python",
   "nbconvert_exporter": "python",
   "pygments_lexer": "ipython3",
   "version": "3.13.5"
  }
 },
 "nbformat": 4,
 "nbformat_minor": 5
}
