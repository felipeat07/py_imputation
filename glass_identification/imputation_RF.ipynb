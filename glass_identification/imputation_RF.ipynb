{
 "cells": [
  {
   "cell_type": "code",
   "execution_count": 13,
   "id": "024dc3c1",
   "metadata": {},
   "outputs": [
    {
     "name": "stdout",
     "output_type": "stream",
     "text": [
      "Taxa de acerto da imputação por Random Forest: 0.7381\n"
     ]
    }
   ],
   "source": [
    "import pandas as pd\n",
    "import numpy as np\n",
    "from sklearn.ensemble import RandomForestClassifier\n",
    "from sklearn.metrics import accuracy_score\n",
    "import random\n",
    "\n",
    "# 1. Carregar e preparar os dados\n",
    "file_path = 'data/glass.data'\n",
    "columns = ['Id', 'RI', 'Na', 'Mg', 'Al', 'Si', 'K', 'Ca', 'Ba', 'Fe', 'Type_of_glass']\n",
    "\n",
    "df = pd.read_csv(file_path, header=None, names=columns)\n",
    "df.drop(columns=['Id'], inplace=True)\n",
    "\n",
    "# Salvar os dados originais para avaliação\n",
    "df_original = df.copy()\n",
    "\n",
    "random.seed(100)\n",
    "\n",
    "# 2. Inserir valores ausentes (MCAR) em Type_of_glass\n",
    "missing_frac = 0.2\n",
    "n_missing = int(missing_frac * len(df))\n",
    "missing_indices = random.sample(list(df.index), n_missing)\n",
    "df.loc[missing_indices, 'Type_of_glass'] = np.nan\n",
    "\n",
    "\n",
    "# 1. Separar dados com e sem valores ausentes\n",
    "df_notnull = df[df['Type_of_glass'].notnull()]\n",
    "df_null = df[df['Type_of_glass'].isnull()]\n",
    "\n",
    "# 2. Separar variáveis preditoras (X) e alvo (y)\n",
    "X_train = df_notnull.drop(columns=['Type_of_glass'])\n",
    "y_train = df_notnull['Type_of_glass']\n",
    "\n",
    "X_pred = df_null.drop(columns=['Type_of_glass'])\n",
    "\n",
    "# 3. Treinar o modelo Random Forest\n",
    "rf = RandomForestClassifier(n_estimators=100, random_state=42)\n",
    "rf.fit(X_train, y_train)\n",
    "\n",
    "# 4. Imputar os valores ausentes\n",
    "y_pred = rf.predict(X_pred)\n",
    "\n",
    "# 5. Comparar com os valores originais\n",
    "# Índices dos dados com valor ausente\n",
    "indices_ausentes = df_null.index\n",
    "valores_reais = df_original.loc[indices_ausentes, 'Type_of_glass']\n",
    "\n",
    "# 6. Calcular acurácia da imputação\n",
    "acuracia = accuracy_score(valores_reais, y_pred)\n",
    "print(f'Taxa de acerto da imputação por Random Forest: {acuracia:.4f}')\n"
   ]
  }
 ],
 "metadata": {
  "kernelspec": {
   "display_name": ".venv",
   "language": "python",
   "name": "python3"
  },
  "language_info": {
   "codemirror_mode": {
    "name": "ipython",
    "version": 3
   },
   "file_extension": ".py",
   "mimetype": "text/x-python",
   "name": "python",
   "nbconvert_exporter": "python",
   "pygments_lexer": "ipython3",
   "version": "3.12.3"
  }
 },
 "nbformat": 4,
 "nbformat_minor": 5
}
