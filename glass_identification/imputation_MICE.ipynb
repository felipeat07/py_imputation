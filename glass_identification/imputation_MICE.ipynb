{
 "cells": [
  {
   "cell_type": "code",
   "execution_count": 20,
   "id": "6623794e",
   "metadata": {},
   "outputs": [
    {
     "name": "stdout",
     "output_type": "stream",
     "text": [
      "Tipo do resultado de fit_transform: <class 'generator'>\n"
     ]
    },
    {
     "ename": "TypeError",
     "evalue": "tuple indices must be integers or slices, not str",
     "output_type": "error",
     "traceback": [
      "\u001b[31m---------------------------------------------------------------------------\u001b[39m",
      "\u001b[31mTypeError\u001b[39m                                 Traceback (most recent call last)",
      "\u001b[36mCell\u001b[39m\u001b[36m \u001b[39m\u001b[32mIn[20]\u001b[39m\u001b[32m, line 51\u001b[39m\n\u001b[32m     48\u001b[39m df_imp = df_imp_list[\u001b[32m0\u001b[39m]\n\u001b[32m     50\u001b[39m \u001b[38;5;66;03m# 8. Atualizar coluna imputada\u001b[39;00m\n\u001b[32m---> \u001b[39m\u001b[32m51\u001b[39m df[\u001b[33m'\u001b[39m\u001b[33mType_encoded\u001b[39m\u001b[33m'\u001b[39m] = \u001b[43mdf_imp\u001b[49m\u001b[43m[\u001b[49m\u001b[33;43m'\u001b[39;49m\u001b[33;43mType_encoded\u001b[39;49m\u001b[33;43m'\u001b[39;49m\u001b[43m]\u001b[49m\n\u001b[32m     53\u001b[39m \u001b[38;5;66;03m# 9. Reverter encoding para valores originais\u001b[39;00m\n\u001b[32m     54\u001b[39m df[\u001b[33m'\u001b[39m\u001b[33mType_of_glass_imputed\u001b[39m\u001b[33m'\u001b[39m] = le.inverse_transform(df[\u001b[33m'\u001b[39m\u001b[33mType_encoded\u001b[39m\u001b[33m'\u001b[39m].astype(\u001b[38;5;28mint\u001b[39m))\n",
      "\u001b[31mTypeError\u001b[39m: tuple indices must be integers or slices, not str"
     ]
    }
   ],
   "source": [
    "import pandas as pd\n",
    "import numpy as np\n",
    "import random\n",
    "from sklearn.preprocessing import LabelEncoder\n",
    "from sklearn.metrics import accuracy_score\n",
    "from autoimpute.imputations import MiceImputer\n",
    "\n",
    "# 1. Carregar dados\n",
    "file_path = 'data/glass.data'\n",
    "columns = ['Id','RI','Na','Mg','Al','Si','K','Ca','Ba','Fe','Type_of_glass']\n",
    "df = pd.read_csv(file_path, header=None, names=columns)\n",
    "df.drop(columns=['Id'], inplace=True)\n",
    "\n",
    "# 2. Backup original\n",
    "df_original = df.copy()\n",
    "\n",
    "# 3. Criar missing na coluna alvo (20%)\n",
    "random.seed(42)\n",
    "missing_indices = df.sample(frac=0.2, random_state=42).index\n",
    "df.loc[missing_indices, 'Type_of_glass'] = np.nan\n",
    "\n",
    "# 4. Encoding com NaN preservado\n",
    "le = LabelEncoder()\n",
    "le.fit(df_original['Type_of_glass'])\n",
    "\n",
    "def encode_with_nan(series, encoder):\n",
    "    encoded = pd.Series(data=np.nan, index=series.index)\n",
    "    not_null = series.notnull()\n",
    "    encoded.loc[not_null] = encoder.transform(series.loc[not_null])\n",
    "    return encoded\n",
    "\n",
    "df['Type_encoded'] = encode_with_nan(df['Type_of_glass'], le)\n",
    "df['Type_encoded'] = df['Type_encoded'].astype(\"object\")  # Para o autoimpute\n",
    "\n",
    "# 5. Configurar imputador MICE do autoimpute\n",
    "mice = MiceImputer(\n",
    "    n=1,\n",
    "    strategy={\"Type_encoded\": \"categorical\"},\n",
    "    predictors=\"all\"\n",
    ")\n",
    "\n",
    "# 6. Rodar imputação e capturar output\n",
    "df_imp_gen = mice.fit_transform(df.drop(columns=['Type_of_glass']))\n",
    "print(\"Tipo do resultado de fit_transform:\", type(df_imp_gen))\n",
    "\n",
    "# 7. Converter generator em lista e pegar primeiro DataFrame\n",
    "df_imp_list = list(df_imp_gen)\n",
    "df_imp = df_imp_list[0]\n",
    "\n",
    "# 8. Atualizar coluna imputada\n",
    "df['Type_encoded'] = df_imp['Type_encoded']\n",
    "\n",
    "# 9. Reverter encoding para valores originais\n",
    "df['Type_of_glass_imputed'] = le.inverse_transform(df['Type_encoded'].astype(int))\n",
    "\n",
    "# 10. Avaliar acurácia nas linhas que tinham missing\n",
    "valores_reais = df_original.loc[missing_indices, 'Type_of_glass']\n",
    "valores_previstos = df.loc[missing_indices, 'Type_of_glass_imputed']\n",
    "\n",
    "acc = accuracy_score(valores_reais, valores_previstos)\n",
    "print(f\"Acurácia com MICE autoimpute: {acc:.4f}\")\n"
   ]
  }
 ],
 "metadata": {
  "kernelspec": {
   "display_name": ".venv",
   "language": "python",
   "name": "python3"
  },
  "language_info": {
   "codemirror_mode": {
    "name": "ipython",
    "version": 3
   },
   "file_extension": ".py",
   "mimetype": "text/x-python",
   "name": "python",
   "nbconvert_exporter": "python",
   "pygments_lexer": "ipython3",
   "version": "3.12.3"
  }
 },
 "nbformat": 4,
 "nbformat_minor": 5
}
