{
 "cells": [
  {
   "cell_type": "code",
   "execution_count": null,
   "id": "127de716",
   "metadata": {},
   "outputs": [
    {
     "name": "stderr",
     "output_type": "stream",
     "text": [
      "/home/felipe/Projetos/py_imputation/.venv/lib/python3.12/site-packages/xgboost/training.py:183: UserWarning: [23:29:22] WARNING: /workspace/src/learner.cc:738: \n",
      "Parameters: { \"use_label_encoder\" } are not used.\n",
      "\n",
      "  bst.update(dtrain, iteration=i, fobj=obj)\n"
     ]
    },
    {
     "name": "stdout",
     "output_type": "stream",
     "text": [
      "Taxa de acerto da imputação com XGBoost: 83.72%\n"
     ]
    }
   ],
   "source": [
    "import pandas as pd\n",
    "import numpy as np\n",
    "import random\n",
    "from xgboost import XGBClassifier\n",
    "from sklearn.metrics import accuracy_score\n",
    "from sklearn.preprocessing import LabelEncoder\n",
    "\n",
    "# 1. Carregar dados\n",
    "file_path = 'data/glass.data'\n",
    "columns = ['Id','RI','Na','Mg','Al','Si','K','Ca','Ba','Fe','Type_of_glass']\n",
    "df = pd.read_csv(file_path, header=None, names=columns)\n",
    "df.drop(columns=['Id'], inplace=True)\n",
    "\n",
    "# 2. Backup original\n",
    "df_original = df.copy()\n",
    "\n",
    "# 3. Inserir valores ausentes na coluna categórica\n",
    "random.seed(100)\n",
    "missing_indices = df.sample(frac=0.2, random_state=42).index\n",
    "df.loc[missing_indices, 'Type_of_glass'] = np.nan\n",
    "\n",
    "# 4. Separar dados com e sem valores ausentes\n",
    "df_train = df.dropna(subset=['Type_of_glass']).copy()\n",
    "df_test = df[df['Type_of_glass'].isna()].copy()\n",
    "\n",
    "X_train = df_train.drop(columns='Type_of_glass')\n",
    "X_test = df_test.drop(columns='Type_of_glass')\n",
    "\n",
    "# Codificar classes para inteiros consecutivos\n",
    "le = LabelEncoder()\n",
    "y_train = le.fit_transform(df_train['Type_of_glass'].astype(int))\n",
    "\n",
    "# 5. Treinar XGBoost\n",
    "model = XGBClassifier(\n",
    "    objective='multi:softmax',\n",
    "    num_class=len(le.classes_),  # número correto de classes\n",
    "    use_label_encoder=False,\n",
    "    eval_metric='mlogloss',\n",
    "    random_state=42\n",
    ")\n",
    "model.fit(X_train, y_train)\n",
    "\n",
    "# 6. Prever e decodificar\n",
    "y_pred_encoded = model.predict(X_test)\n",
    "y_pred = le.inverse_transform(y_pred_encoded)\n",
    "\n",
    "# 7. Substituir valores imputados\n",
    "df_imputed = df.copy()\n",
    "df_imputed.loc[df_test.index, 'Type_of_glass'] = y_pred\n",
    "\n",
    "# 8. Avaliar taxa de acerto\n",
    "true_values = df_original.loc[df_test.index, 'Type_of_glass']\n",
    "acertos = (y_pred == true_values).sum()\n",
    "taxa_acerto = acertos / len(true_values)\n",
    "\n",
    "print(f\"Taxa de acerto da imputação com XGBoost: {taxa_acerto:.2%}\")\n"
   ]
  },
  {
   "cell_type": "markdown",
   "id": "e8545a42",
   "metadata": {},
   "source": [
    "✅ XGBoost (Extreme Gradient Boosting)\n",
    "Árvores treinadas em sequência: cada nova árvore tenta corrigir os erros da anterior, focando nos exemplos mais difíceis.\n",
    "\n",
    "- Usa gradiente descendente para minimizar a perda (como erro de classificação).\n",
    "\n",
    "- Possui várias técnicas integradas:\n",
    "\n",
    "- Regularização (L1 e L2) para evitar overfitting.\n",
    "\n",
    "- Poda inteligente de árvores.\n",
    "\n",
    "- Importância de features.\n",
    "\n",
    "- Aprendizado mais fino (taxa de aprendizado, shrinkage).\n",
    "\n",
    "🔍 Consequência no caso:\n",
    "\n",
    "Os dados têm relações complexas e sutis entre as variáveis químicas e a classe (Type_of_glass).\n",
    "\n",
    "O XGBoost aprende gradualmente essas relações, resultando em previsões mais precisas para as classes ausentes.\n",
    "\n",
    "✅ Random Forest\n",
    "- Treina muitas árvores em paralelo, cada uma em um subset aleatório dos dados e features (bagging).\n",
    "\n",
    "- Previsão final = maioria das árvores (votação).\n",
    "\n",
    "- Não \"aprende com os erros\" como no XGBoost, apenas tira proveito da diversidade entre árvores.\n",
    "\n",
    "🔍 Consequência no caso:\n",
    "\n",
    "Como não foca nos erros, ele não ajusta tão bem em casos difíceis ou classes menos representadas.\n",
    "\n",
    "Funciona bem com dados tabulares em geral, mas não alcança o mesmo refinamento que o XGBoost.\n",
    "\n"
   ]
  }
 ],
 "metadata": {
  "kernelspec": {
   "display_name": ".venv",
   "language": "python",
   "name": "python3"
  },
  "language_info": {
   "codemirror_mode": {
    "name": "ipython",
    "version": 3
   },
   "file_extension": ".py",
   "mimetype": "text/x-python",
   "name": "python",
   "nbconvert_exporter": "python",
   "pygments_lexer": "ipython3",
   "version": "3.12.3"
  }
 },
 "nbformat": 4,
 "nbformat_minor": 5
}
