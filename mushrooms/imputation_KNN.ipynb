{
 "cells": [
  {
   "cell_type": "code",
   "execution_count": 7,
   "id": "3c481466",
   "metadata": {},
   "outputs": [
    {
     "name": "stdout",
     "output_type": "stream",
     "text": [
      "Imputando valores ausentes na coluna 'class'...\n"
     ]
    },
    {
     "name": "stderr",
     "output_type": "stream",
     "text": [
      "100%|██████████| 1128/1128 [00:07<00:00, 149.59it/s]"
     ]
    },
    {
     "name": "stdout",
     "output_type": "stream",
     "text": [
      "\n",
      "✅ Taxa de acerto da imputação na coluna 'class': 100.00%\n"
     ]
    },
    {
     "name": "stderr",
     "output_type": "stream",
     "text": [
      "\n"
     ]
    }
   ],
   "source": [
    "import pandas as pd\n",
    "import numpy as np\n",
    "import gower\n",
    "from tqdm import tqdm\n",
    "\n",
    "# 1. Carregar os dados\n",
    "file_path = 'mushrooms_data/agaricus-lepiota.data'\n",
    "columns = [\n",
    "    'class', 'cap-shape', 'cap-surface', 'cap-color', 'bruises', 'odor',\n",
    "    'gill-attachment', 'gill-spacing', 'gill-size', 'gill-color',\n",
    "    'stalk-shape', 'stalk-root', 'stalk-surface-above-ring',\n",
    "    'stalk-surface-below-ring', 'stalk-color-above-ring',\n",
    "    'stalk-color-below-ring', 'veil-type', 'veil-color', 'ring-number',\n",
    "    'ring-type', 'spore-print-color', 'population', 'habitat'\n",
    "]\n",
    "\n",
    "df = pd.read_csv(file_path, header=None, names=columns)\n",
    "df.replace('?', np.nan, inplace=True)\n",
    "df_full = df.dropna().reset_index(drop=True)  # usa apenas registros completos\n",
    "\n",
    "# 2. Gerar valores ausentes MCAR na coluna 'class'\n",
    "np.random.seed(42)\n",
    "missing_rate = 0.2\n",
    "n_missing = int(len(df_full) * missing_rate)\n",
    "missing_indices = np.random.choice(df_full.index, size=n_missing, replace=False)\n",
    "\n",
    "df_missing = df_full.copy()\n",
    "df_missing.loc[missing_indices, 'class'] = np.nan\n",
    "\n",
    "# 3. Imputar os valores ausentes em 'class' com KNN usando Gower por linha\n",
    "df_imputed = df_missing.copy()\n",
    "k = 5\n",
    "col = 'class'\n",
    "\n",
    "print(\"Imputando valores ausentes na coluna 'class'...\")\n",
    "for idx in tqdm(missing_indices):\n",
    "    # linha com classe ausente\n",
    "    target_row = df_missing.drop(columns=[col]).iloc[idx:idx+1]  # mantém como DataFrame\n",
    "\n",
    "    # base de comparação: apenas linhas com classe conhecida\n",
    "    reference_rows = df_missing[~df_missing[col].isna()].drop(columns=[col])\n",
    "\n",
    "    # calcular distância gower entre a linha ausente e todas as linhas válidas\n",
    "    distances = gower.gower_matrix(target_row, reference_rows)[0]\n",
    "\n",
    "    # encontrar os k vizinhos mais próximos\n",
    "    nearest_indices = np.argsort(distances)[:k]\n",
    "\n",
    "    # obter as classes dos vizinhos\n",
    "    neighbor_classes = df_missing.loc[reference_rows.index[nearest_indices], col]\n",
    "\n",
    "    # moda das classes\n",
    "    most_common = neighbor_classes.mode().iloc[0]\n",
    "    df_imputed.at[idx, col] = most_common\n",
    "\n",
    "# 4. Comparar valores imputados com os reais\n",
    "true_values = df_full.loc[missing_indices, 'class']\n",
    "predicted_values = df_imputed.loc[missing_indices, 'class']\n",
    "accuracy = (true_values == predicted_values).mean()\n",
    "\n",
    "print(f\"\\n✅ Taxa de acerto da imputação na coluna 'class': {accuracy:.2%}\")\n",
    "\n"
   ]
  },
  {
   "cell_type": "markdown",
   "id": "49530b83",
   "metadata": {},
   "source": [
    "Muitos algoritmos de ML (e também imputação por KNN) conseguem prever com 100% de acurácia se um cogumelo é venenoso ou não, sem overfitting — pois há atributos únicos (como odor, cor, etc.) que definem a classe sem ambiguidade."
   ]
  },
  {
   "cell_type": "code",
   "execution_count": 10,
   "id": "e9a09b39",
   "metadata": {},
   "outputs": [
    {
     "name": "stdout",
     "output_type": "stream",
     "text": [
      "Calculando distância de Gower...\n",
      "Imputando valores ausentes na coluna 'cap-color'...\n"
     ]
    },
    {
     "name": "stderr",
     "output_type": "stream",
     "text": [
      "100%|██████████| 1128/1128 [00:00<00:00, 2672.16it/s]"
     ]
    },
    {
     "name": "stdout",
     "output_type": "stream",
     "text": [
      "\n",
      "Taxa de acerto da imputação na coluna 'cap-color': 24.73%\n"
     ]
    },
    {
     "name": "stderr",
     "output_type": "stream",
     "text": [
      "\n"
     ]
    }
   ],
   "source": [
    "import pandas as pd\n",
    "import numpy as np\n",
    "import gower\n",
    "from tqdm import tqdm\n",
    "\n",
    "# 1. Carregar os dados\n",
    "file_path = 'mushrooms_data/agaricus-lepiota.data'\n",
    "columns = [\n",
    "    'class', 'cap-shape', 'cap-surface', 'cap-color', 'bruises', 'odor',\n",
    "    'gill-attachment', 'gill-spacing', 'gill-size', 'gill-color',\n",
    "    'stalk-shape', 'stalk-root', 'stalk-surface-above-ring',\n",
    "    'stalk-surface-below-ring', 'stalk-color-above-ring',\n",
    "    'stalk-color-below-ring', 'veil-type', 'veil-color', 'ring-number',\n",
    "    'ring-type', 'spore-print-color', 'population', 'habitat'\n",
    "]\n",
    "\n",
    "df = pd.read_csv(file_path, header=None, names=columns)\n",
    "df.replace('?', np.nan, inplace=True)\n",
    "df_full = df.dropna().reset_index(drop=True)  # usa apenas registros completos\n",
    "\n",
    "# 2. Gerar valores ausentes MCAR na coluna 'cap-color'\n",
    "col = 'cap-color'\n",
    "np.random.seed(42)\n",
    "missing_rate = 0.2\n",
    "n_missing = int(len(df_full) * missing_rate)\n",
    "missing_indices = np.random.choice(df_full.index, size=n_missing, replace=False)\n",
    "\n",
    "df_missing = df_full.copy()\n",
    "df_missing.loc[missing_indices, col] = np.nan\n",
    "\n",
    "# 3. Imputar os valores ausentes em 'cap-color' com KNN (distância de Gower + moda)\n",
    "df_imputed = df_missing.copy()\n",
    "\n",
    "print(\"Calculando distância de Gower...\")\n",
    "gower_matrix = gower.gower_matrix(df_missing.drop(columns=[col]))\n",
    "\n",
    "k = 5\n",
    "print(f\"Imputando valores ausentes na coluna '{col}'...\")\n",
    "for idx in tqdm(missing_indices):\n",
    "    distances = gower_matrix[idx]\n",
    "    valid_indices = df_missing.index[(~df_missing[col].isna()) & (df_missing.index != idx)]\n",
    "    nearest_neighbors = valid_indices[np.argsort(distances[valid_indices])[:k]]\n",
    "    most_common = df_missing.loc[nearest_neighbors, col].mode().iloc[0]\n",
    "    df_imputed.at[idx, col] = most_common\n",
    "\n",
    "# 4. Comparar valores imputados com os reais\n",
    "true_values = df_full.loc[missing_indices, col]\n",
    "predicted_values = df_imputed.loc[missing_indices, col]\n",
    "accuracy = (true_values == predicted_values).mean()\n",
    "\n",
    "print(f\"\\nTaxa de acerto da imputação na coluna '{col}': {accuracy:.2%}\")\n"
   ]
  },
  {
   "cell_type": "markdown",
   "id": "0d7f3aa2",
   "metadata": {},
   "source": [
    "-> Para a coluna class, que tem forte relação direta e clara com várias outras características (como odor, cor, etc.), o KNN com distância de Gower imputa com alta precisão, às vezes 100%, pois as outras variáveis quase definem a classe completamente.\n",
    "\n",
    "-> Para colunas como cap-color, com mais variabilidade e menos dependência clara, o desempenho cai, refletindo a dificuldade real da imputação."
   ]
  },
  {
   "cell_type": "code",
   "execution_count": 11,
   "id": "e39afa30",
   "metadata": {},
   "outputs": [
    {
     "name": "stdout",
     "output_type": "stream",
     "text": [
      "\n",
      "Processando coluna: cap-shape\n",
      "Calculando matriz de distância Gower...\n",
      "Imputando com KNN + moda local...\n"
     ]
    },
    {
     "name": "stderr",
     "output_type": "stream",
     "text": [
      "100%|██████████| 1128/1128 [00:00<00:00, 2691.50it/s]\n"
     ]
    },
    {
     "name": "stdout",
     "output_type": "stream",
     "text": [
      "Taxa de acerto KNN+moda: 38.21%\n",
      "Taxa de acerto moda global: 49.11%\n",
      "\n",
      "Processando coluna: cap-surface\n",
      "Calculando matriz de distância Gower...\n",
      "Imputando com KNN + moda local...\n"
     ]
    },
    {
     "name": "stderr",
     "output_type": "stream",
     "text": [
      "100%|██████████| 1128/1128 [00:00<00:00, 2679.67it/s]\n"
     ]
    },
    {
     "name": "stdout",
     "output_type": "stream",
     "text": [
      "Taxa de acerto KNN+moda: 38.21%\n",
      "Taxa de acerto moda global: 41.58%\n",
      "\n",
      "Processando coluna: bruises\n",
      "Calculando matriz de distância Gower...\n",
      "Imputando com KNN + moda local...\n"
     ]
    },
    {
     "name": "stderr",
     "output_type": "stream",
     "text": [
      "100%|██████████| 1128/1128 [00:00<00:00, 2693.30it/s]\n"
     ]
    },
    {
     "name": "stdout",
     "output_type": "stream",
     "text": [
      "Taxa de acerto KNN+moda: 100.00%\n",
      "Taxa de acerto moda global: 57.62%\n",
      "\n",
      "Processando coluna: odor\n",
      "Calculando matriz de distância Gower...\n",
      "Imputando com KNN + moda local...\n"
     ]
    },
    {
     "name": "stderr",
     "output_type": "stream",
     "text": [
      "100%|██████████| 1128/1128 [00:00<00:00, 2684.58it/s]\n"
     ]
    },
    {
     "name": "stdout",
     "output_type": "stream",
     "text": [
      "Taxa de acerto KNN+moda: 90.16%\n",
      "Taxa de acerto moda global: 50.18%\n",
      "\n",
      "Processando coluna: gill-color\n",
      "Calculando matriz de distância Gower...\n",
      "Imputando com KNN + moda local...\n"
     ]
    },
    {
     "name": "stderr",
     "output_type": "stream",
     "text": [
      "100%|██████████| 1128/1128 [00:00<00:00, 2709.94it/s]"
     ]
    },
    {
     "name": "stdout",
     "output_type": "stream",
     "text": [
      "Taxa de acerto KNN+moda: 12.85%\n",
      "Taxa de acerto moda global: 24.11%\n"
     ]
    },
    {
     "name": "stderr",
     "output_type": "stream",
     "text": [
      "\n"
     ]
    },
    {
     "data": {
      "image/png": "[encoded data removed]",
      "text/plain": [
       "<Figure size 800x500 with 1 Axes>"
      ]
     },
     "metadata": {},
     "output_type": "display_data"
    }
   ],
   "source": [
    "import pandas as pd\n",
    "import numpy as np\n",
    "import gower\n",
    "from tqdm import tqdm\n",
    "import matplotlib.pyplot as plt\n",
    "\n",
    "# 1. Carregar dados\n",
    "file_path = 'mushrooms_data/agaricus-lepiota.data'\n",
    "columns = [\n",
    "    'class', 'cap-shape', 'cap-surface', 'cap-color', 'bruises', 'odor',\n",
    "    'gill-attachment', 'gill-spacing', 'gill-size', 'gill-color',\n",
    "    'stalk-shape', 'stalk-root', 'stalk-surface-above-ring',\n",
    "    'stalk-surface-below-ring', 'stalk-color-above-ring',\n",
    "    'stalk-color-below-ring', 'veil-type', 'veil-color', 'ring-number',\n",
    "    'ring-type', 'spore-print-color', 'population', 'habitat'\n",
    "]\n",
    "\n",
    "df = pd.read_csv(file_path, header=None, names=columns)\n",
    "df.replace('?', np.nan, inplace=True)\n",
    "df_full = df.dropna().reset_index(drop=True)  # usar apenas linhas completas\n",
    "\n",
    "# Colunas para testar\n",
    "test_cols = ['cap-shape', 'cap-surface', 'bruises', 'odor', 'gill-color']\n",
    "\n",
    "# Parâmetros\n",
    "missing_rate = 0.2\n",
    "k = 5\n",
    "np.random.seed(42)\n",
    "\n",
    "# Listas para armazenar resultados\n",
    "num_categories = []\n",
    "accuracy_knn = []\n",
    "accuracy_mode = []\n",
    "\n",
    "for col in test_cols:\n",
    "    print(f\"\\nProcessando coluna: {col}\")\n",
    "    \n",
    "    # Gerar valores ausentes MCAR na coluna col\n",
    "    df_missing = df_full.copy()\n",
    "    n_missing = int(len(df_missing) * missing_rate)\n",
    "    missing_indices = np.random.choice(df_missing.index, size=n_missing, replace=False)\n",
    "    df_missing.loc[missing_indices, col] = np.nan\n",
    "    \n",
    "    # Matriz de distância Gower nas colunas *exceto* a que será imputada\n",
    "    df_for_dist = df_missing.drop(columns=[col])\n",
    "    print(\"Calculando matriz de distância Gower...\")\n",
    "    gower_matrix = gower.gower_matrix(df_for_dist)\n",
    "    \n",
    "    # Imputação KNN + moda local\n",
    "    df_imputed_knn = df_missing.copy()\n",
    "    print(\"Imputando com KNN + moda local...\")\n",
    "    for idx in tqdm(missing_indices):\n",
    "        distances = gower_matrix[idx]\n",
    "        valid_indices = df_missing.index[(~df_missing[col].isna()) & (df_missing.index != idx)]\n",
    "        if len(valid_indices) == 0:\n",
    "            # fallback se não tiver vizinhos válidos\n",
    "            most_common = df_full[col].mode().iloc[0]\n",
    "        else:\n",
    "            nearest_neighbors = valid_indices[np.argsort(distances[valid_indices])[:k]]\n",
    "            most_common = df_missing.loc[nearest_neighbors, col].mode().iloc[0]\n",
    "        df_imputed_knn.at[idx, col] = most_common\n",
    "    \n",
    "    # Imputação baseline: moda global\n",
    "    df_imputed_mode = df_missing.copy()\n",
    "    global_mode = df_full[col].mode().iloc[0]\n",
    "    df_imputed_mode.loc[missing_indices, col] = global_mode\n",
    "    \n",
    "    # Avaliar acurácia para KNN\n",
    "    true_values = df_full.loc[missing_indices, col]\n",
    "    pred_knn = df_imputed_knn.loc[missing_indices, col]\n",
    "    acc_knn = (true_values == pred_knn).mean()\n",
    "    \n",
    "    # Avaliar acurácia para moda global\n",
    "    pred_mode = df_imputed_mode.loc[missing_indices, col]\n",
    "    acc_mode = (true_values == pred_mode).mean()\n",
    "    \n",
    "    # Armazenar resultados\n",
    "    num_categories.append(df_full[col].nunique())\n",
    "    accuracy_knn.append(acc_knn)\n",
    "    accuracy_mode.append(acc_mode)\n",
    "    \n",
    "    print(f\"Taxa de acerto KNN+moda: {acc_knn:.2%}\")\n",
    "    print(f\"Taxa de acerto moda global: {acc_mode:.2%}\")\n",
    "\n",
    "# Ordenar os dados antes de plotar\n",
    "results = pd.DataFrame({\n",
    "    'num_categories': num_categories,\n",
    "    'accuracy_knn': accuracy_knn,\n",
    "    'accuracy_mode': accuracy_mode\n",
    "}).sort_values(by='num_categories')\n",
    "\n",
    "# Plotar o gráfico\n",
    "plt.figure(figsize=(8, 5))\n",
    "plt.plot(results['num_categories'], results['accuracy_knn'], marker='o', label='KNN + Moda local')\n",
    "plt.plot(results['num_categories'], results['accuracy_mode'], marker='o', label='Moda global')\n",
    "plt.xticks(results['num_categories'])  # x em valores exatos de número de categorias\n",
    "plt.xlabel('Número de categorias na variável')\n",
    "plt.ylabel('Taxa de acerto na imputação')\n",
    "plt.title('Acurácia da imputação vs. número de categorias')\n",
    "plt.legend()\n",
    "plt.grid(True)\n",
    "plt.tight_layout()\n",
    "plt.show()\n",
    "\n"
   ]
  },
  {
   "cell_type": "code",
   "execution_count": 13,
   "id": "796a5d7e",
   "metadata": {},
   "outputs": [
    {
     "name": "stderr",
     "output_type": "stream",
     "text": [
      "C:\\Users\\felip\\AppData\\Local\\Temp\\ipykernel_23192\\797335022.py:11: RuntimeWarning: invalid value encountered in scalar divide\n",
      "  return np.sqrt(phi2 / min(k - 1, r - 1))\n"
     ]
    },
    {
     "data": {
      "text/plain": [
       "[('ring-type', np.float64(0.8944480387093043)),\n",
       " ('stalk-surface-above-ring', np.float64(0.7177861150185135)),\n",
       " ('stalk-surface-below-ring', np.float64(0.6980960395102267)),\n",
       " ('odor', np.float64(0.6189988728694178)),\n",
       " ('stalk-color-below-ring', np.float64(0.5669283112880737)),\n",
       " ('stalk-color-above-ring', np.float64(0.5537692254319537)),\n",
       " ('gill-color', np.float64(0.5536870335591083)),\n",
       " ('spore-print-color', np.float64(0.5100827993571513)),\n",
       " ('habitat', np.float64(0.4617759219508094)),\n",
       " ('gill-spacing', np.float64(0.43871928229543644)),\n",
       " ('class', np.float64(0.4351942494444164)),\n",
       " ('cap-color', np.float64(0.4171968353131704)),\n",
       " ('stalk-root', np.float64(0.4120950461258957)),\n",
       " ('population', np.float64(0.3648122658291383)),\n",
       " ('stalk-shape', np.float64(0.34793677567061904)),\n",
       " ('cap-surface', np.float64(0.23086497227577824)),\n",
       " ('cap-shape', np.float64(0.22915209689106789)),\n",
       " ('ring-number', np.float64(0.12729171241862236)),\n",
       " ('gill-attachment', np.float64(0.06118241399128884)),\n",
       " ('gill-size', np.float64(0.039637113903586)),\n",
       " ('veil-type', np.float64(nan)),\n",
       " ('veil-color', np.float64(0.03811392170983053))]"
      ]
     },
     "execution_count": 13,
     "metadata": {},
     "output_type": "execute_result"
    }
   ],
   "source": [
    "import pandas as pd\n",
    "import numpy as np\n",
    "import scipy.stats as ss\n",
    "\n",
    "def cramers_v(x, y):\n",
    "    confusion_matrix = pd.crosstab(x, y)\n",
    "    chi2 = ss.chi2_contingency(confusion_matrix)[0]\n",
    "    n = confusion_matrix.sum().sum()\n",
    "    phi2 = chi2 / n\n",
    "    r, k = confusion_matrix.shape\n",
    "    return np.sqrt(phi2 / min(k - 1, r - 1))\n",
    "\n",
    "\n",
    "correlations = {\n",
    "    col: cramers_v(df_full['bruises'], df_full[col])\n",
    "    for col in df_full.columns if col != 'bruises'\n",
    "}\n",
    "sorted(correlations.items(), key=lambda x: -x[1])\n"
   ]
  },
  {
   "cell_type": "markdown",
   "id": "511be45e",
   "metadata": {},
   "source": [
    "Como interpretar os valores de V de Cramér\n",
    "\n",
    "| Intervalo V de Cramér | Associação entre variáveis |\n",
    "|-----------------------|----------------------------|\n",
    "| 0.00 – 0.10           | Nenhuma ou muito fraca     |\n",
    "| 0.10 – 0.30           | Fraca                      |\n",
    "| 0.30 – 0.50           | Moderada                   |\n",
    "| 0.50 – 0.70           | Forte                      |\n",
    "| 0.70 – 1.00           | Muito forte                |\n",
    "\n",
    "---\n",
    "\n",
    "Interpretação do seu resultado (top 10)\n",
    "\n",
    "| Variável                    | V de Cramér | Associação com `bruises` |\n",
    "|-----------------------------|-------------|---------------------------|\n",
    "| `ring-type`                 | 0.89        | Muito forte               |\n",
    "| `stalk-surface-above-ring` | 0.72        | Muito forte               |\n",
    "| `stalk-surface-below-ring` | 0.70        | Muito forte               |\n",
    "| `odor`                      | 0.62        | Forte                     |\n",
    "| `stalk-color-below-ring`   | 0.57        | Forte                     |\n",
    "| `stalk-color-above-ring`   | 0.55        | Forte                     |\n",
    "| `gill-color`                | 0.55        | Forte                     |\n",
    "| `spore-print-color`        | 0.51        | Forte                     |\n",
    "| `habitat`                  | 0.46        | Moderada                  |\n",
    "| `gill-spacing`             | 0.44        | Moderada                  |\n",
    "\n",
    "---\n",
    "\n",
    "Conclusão\n",
    "\n",
    "O 100% de acurácia ao imputar `bruises` provavelmente se deve à forte associação com várias outras variáveis, especialmente `ring-type`, `stalk-surface-above-ring` e `odor`, que fornecem informações quase determinísticas sobre `bruises`.\n",
    "\n",
    "Como o KNN com Gower leva em conta múltiplas variáveis, ele pode \"prever\" perfeitamente `bruises` a partir de seus vizinhos, que compartilham combinações únicas desses atributos.\n"
   ]
  },
  {
   "cell_type": "markdown",
   "id": "f3f85d92",
   "metadata": {},
   "source": [
    "---"
   ]
  },
  {
   "cell_type": "markdown",
   "id": "26ecfa44",
   "metadata": {},
   "source": [
    "Como o V de Cramér é calculado\n",
    "\n",
    "O **V de Cramér** é calculado com base nas **frequências das combinações entre categorias** de duas variáveis.\n",
    "\n",
    "\n",
    "Como funciona\n",
    "\n",
    "1. Tabela de contingência\n",
    "\n",
    "É como uma matriz que mostra **quantas vezes cada combinação de categorias ocorre**.\n",
    "\n",
    "Por exemplo, suponha essas duas variáveis:\n",
    "\n",
    "- `cor`: vermelho, azul  \n",
    "- `sabor`: doce, salgado\n",
    "\n",
    "A tabela pode ser:\n",
    "\n",
    "|            | Doce | Salgado |\n",
    "|------------|------|---------|\n",
    "| Vermelho   | 20   | 5       |\n",
    "| Azul       | 4    | 21      |\n",
    "\n",
    "Cada número representa uma **frequência de coocorrência**.\n",
    "\n",
    "\n",
    "\n",
    " 2. Qui-quadrado\n",
    "\n",
    "Compara os **valores observados** com os **valores esperados** (sob hipótese de independência):\n",
    "\n",
    "- Se as variáveis forem **independentes**, as frequências esperadas seriam diferentes — e o **qui-quadrado será baixo**.\n",
    "- Se forem **dependentes**, o qui-quadrado será **alto**.\n",
    "\n",
    "\n",
    "\n",
    "3. V de Cramér\n",
    "\n",
    "Usa o valor do **qui-quadrado** e **normaliza** para que o resultado fique entre **0 e 1**.\n",
    "\n",
    "Isso permite comparar a **força da associação entre variáveis**, mesmo que tenham números diferentes de categorias.\n",
    "\n",
    "\n",
    "\n",
    " Resumo\n",
    "\n",
    "- ✅ O **V de Cramér** **não depende de valores numéricos diretos**, mas da **frequência com que pares de categorias ocorrem juntas**.\n",
    "- 📈 Ele **quantifica a dependência estatística** entre variáveis **categóricas**.\n"
   ]
  },
  {
   "cell_type": "markdown",
   "id": "31afcab7",
   "metadata": {},
   "source": [
    "---\n",
    "\n",
    "### Referência\n",
    "\n",
    "http://dx.doi.org/10.1002/0471249688\n",
    "\n",
    "Categorical Data Analysis\n",
    "Author(s):Alan Agresti\n",
    "First published:3 July 2002\n",
    "Print ISBN:9780471360933 |Online ISBN:9780471249689 |DOI:10.1002/0471249688\n",
    "Copyright © 2002 John Wiley & Sons, Inc.\n",
    "Book Series:Wiley Series in Probability and Statistics"
   ]
  }
 ],
 "metadata": {
  "kernelspec": {
   "display_name": "Python 3",
   "language": "python",
   "name": "python3"
  },
  "language_info": {
   "codemirror_mode": {
    "name": "ipython",
    "version": 3
   },
   "file_extension": ".py",
   "mimetype": "text/x-python",
   "name": "python",
   "nbconvert_exporter": "python",
   "pygments_lexer": "ipython3",
   "version": "3.13.3"
  }
 },
 "nbformat": 4,
 "nbformat_minor": 5
}
