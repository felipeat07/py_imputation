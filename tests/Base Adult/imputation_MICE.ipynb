{
 "cells": [
  {
   "cell_type": "code",
   "execution_count": 5,
   "id": "3ed12d0a",
   "metadata": {},
   "outputs": [],
   "source": [
    "import pandas as pd\n",
    "import numpy as np\n",
    "from sklearn.ensemble import RandomForestClassifier\n",
    "from sklearn.experimental import enable_iterative_imputer  # necessário para ativar o IterativeImputer\n",
    "from sklearn.impute import IterativeImputer\n",
    "from sklearn.metrics import accuracy_score\n"
   ]
  },
  {
   "cell_type": "code",
   "execution_count": 8,
   "id": "f0e2ad20",
   "metadata": {},
   "outputs": [
    {
     "name": "stdout",
     "output_type": "stream",
     "text": [
      "\n",
      "✅ Acurácia do MICE com RandomForestClassifier: 77.49%\n"
     ]
    }
   ],
   "source": [
    "\n",
    "# 1. Carregar os dados\n",
    "file_path = 'adult_data/adult.data'\n",
    "columns = [\n",
    "    'age', 'workclass', 'fnlwgt', 'education', 'education-num',\n",
    "    'marital-status', 'occupation', 'relationship', 'race', 'sex',\n",
    "    'capital-gain', 'capital-loss', 'hours-per-week', 'native-country', 'income'\n",
    "]\n",
    "df = pd.read_csv(file_path, header=None, names=columns, skipinitialspace=True)\n",
    "\n",
    "# 2. Backup dos dados originais\n",
    "df_original = df.copy()\n",
    "\n",
    "# 3. Inserir valores ausentes artificialmente em 'education'\n",
    "np.random.seed(42)\n",
    "missing_mask = df['education'].notna()\n",
    "missing_indices = df[missing_mask].sample(frac=0.10).index\n",
    "df_missing = df.copy()\n",
    "df_missing.loc[missing_indices, 'education'] = np.nan\n",
    "\n",
    "# 4. Codificar variáveis categóricas como números\n",
    "df_encoded = df_missing.copy()\n",
    "category_mappings = {}\n",
    "\n",
    "for col in df_encoded.columns:\n",
    "    if df_encoded[col].dtype == 'object':\n",
    "        df_encoded[col] = df_encoded[col].astype('category')\n",
    "        category_mappings[col] = df_encoded[col].cat.categories\n",
    "        df_encoded[col] = df_encoded[col].cat.codes.replace(-1, np.nan)\n",
    "        \n",
    "\n",
    "# 5. Imputação com MICE usando RandomForestClassifier\n",
    "mice_estimator = IterativeImputer(\n",
    "    estimator=RandomForestClassifier(n_estimators=5, max_depth=5, random_state=0),\n",
    "    max_iter=10,\n",
    "    random_state=0\n",
    ")\n",
    "\n",
    "df_imputed_array = mice_estimator.fit_transform(df_encoded)\n",
    "df_imputed = pd.DataFrame(df_imputed_array, columns=df_encoded.columns)\n",
    "\n",
    "# 6. Arredondar a coluna 'education' para converter de float para categoria\n",
    "df_imputed['education'] = df_imputed['education'].round().astype(int)\n",
    "\n",
    "# Corrigir possíveis valores fora do intervalo de categorias\n",
    "n_categories = len(category_mappings['education'])\n",
    "df_imputed['education'] = df_imputed['education'].clip(0, n_categories - 1)\n",
    "\n",
    "# 7. Decodificar a coluna 'education' de volta para categorias\n",
    "df_imputed['education'] = pd.Categorical.from_codes(\n",
    "    df_imputed['education'],\n",
    "    categories=category_mappings['education']\n",
    ")\n",
    "\n",
    "# 8. Avaliar a acurácia apenas nos valores imputados\n",
    "true_values = df_original.loc[missing_indices, 'education']\n",
    "imputed_values = df_imputed.loc[missing_indices, 'education']\n",
    "accuracy = accuracy_score(true_values, imputed_values)\n",
    "\n",
    "print(f\"\\n✅ Acurácia do MICE com RandomForestClassifier: {accuracy * 100:.2f}%\")\n",
    "\n",
    "\n"
   ]
  }
 ],
 "metadata": {
  "kernelspec": {
   "display_name": "Python 3",
   "language": "python",
   "name": "python3"
  },
  "language_info": {
   "codemirror_mode": {
    "name": "ipython",
    "version": 3
   },
   "file_extension": ".py",
   "mimetype": "text/x-python",
   "name": "python",
   "nbconvert_exporter": "python",
   "pygments_lexer": "ipython3",
   "version": "3.13.3"
  }
 },
 "nbformat": 4,
 "nbformat_minor": 5
}
